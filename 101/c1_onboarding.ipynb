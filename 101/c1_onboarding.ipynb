{
  "cells": [
    {
      "cell_type": "markdown",
      "metadata": {
        "id": "9t1WrY34u_Wi"
      },
      "source": [
        "# Weights & Biases 101 🥾🏕️\n",
        "\n",
        "This notebook is intended to show you how to track your machine learning experiments using [Weights & Biases](https://wandb.ai).\n",
        "\n",
        "Weights & Biases has two major components: a python client named `wandb` 🪄🐝  and a web application that allows you to store, query, visualize, and share metadata from your machine learning experiments, e.g. loss curves, evaluation metrics, model predictions... you can `.log` *just about* anything.\n",
        "\n",
        "The client is open source and you can find the [source code on Github](http://github.com/wandb/wandb)! ⭐\n",
        "\n",
        "The first step on our journey is to install the client, which is as easy as:"
      ]
    },
    {
      "cell_type": "markdown",
      "metadata": {
        "id": "0i0N-GAivDsw"
      },
      "source": [
        "## 🪄 Install `wandb` library and login\n",
        "\n",
        "\n",
        "The first step on our journey is to install the client, which is as easy as:\n",
        "\n"
      ]
    },
    {
      "cell_type": "code",
      "execution_count": null,
      "metadata": {
        "id": "t6yGlDervEh8"
      },
      "outputs": [],
      "source": [
        "!pip install c1_aem_sdk -qU"
      ]
    },
    {
      "cell_type": "code",
      "execution_count": null,
      "metadata": {
        "id": "ojUNT0WhGLjc"
      },
      "outputs": [],
      "source": [
        "!pip install \"numpy<1.26.4\""
      ]
    },
    {
      "cell_type": "code",
      "execution_count": null,
      "metadata": {
        "id": "CZ6505_yammL"
      },
      "outputs": [],
      "source": [
        "!pip install scikit-learn"
      ]
    },
    {
      "cell_type": "markdown",
      "metadata": {
        "id": "6E83xgBm8yjn"
      },
      "source": [
        "## Log in to W&B\n",
        "- You can explicitly login using `wandb login` or `wandb.login()` (See below)\n",
        "- Alternatively you can set environment variables. There are several env variables which you can set to change the behavior of W&B logging. The most important are:\n",
        "    - `WANDB_API_KEY` - find this in your \"Settings\" section under your profile\n",
        "    - `WANDB_BASE_URL` - this is the url of the W&B server\n",
        "- Find your API Token in \"Profile\" -> \"Setttings\" in the W&B App\n"
      ]
    },
    {
      "cell_type": "code",
      "execution_count": null,
      "metadata": {
        "id": "T2oj15Y_Eyt5"
      },
      "outputs": [],
      "source": [
        "import c1_aem_sdk\n",
        "import numpy as np\n",
        "import random"
      ]
    },
    {
      "cell_type": "code",
      "execution_count": null,
      "metadata": {
        "id": "JsNzSCjg7rD4"
      },
      "outputs": [],
      "source": [
        "## Replace this with Cap1 Instance url\n",
        "WANDB_HOST = \"<cap1_instance_url>\" #@param\n",
        "# Equivalent to running \"wandb login\" in your shell\n",
        "\n",
        "wandb.login(host= WANDB_HOST)\n",
        "\n",
        "#\n",
        "# Note that https://api.wandb.ai is the default and points to the publicly hosted\n",
        "# app.\n",
        "#\n",
        "# Alternative you can configure this with environment variables:\n",
        "# export WANDB_API_KEY=\"<your-api-key>\"\n",
        "# export WANDB_BASE_URL=\"<your-wandb-endpoint>\""
      ]
    },
    {
      "cell_type": "markdown",
      "metadata": {
        "id": "zer98IpzJ-Df"
      },
      "source": [
        "Calling `wandb login` or `wandb.login` will write your API key to your `~/.netrc` file. __To authenticate the client in a headless job on the cloud, you will definitely want to use the `WANDB_API_KEY` environment variable__."
      ]
    },
    {
      "cell_type": "markdown",
      "metadata": {
        "id": "P1HvXvpFvwl0"
      },
      "source": [
        "**Default Destination:** When a user signs up to the instance and joins a team, wandb will automatically write runs this team. This setting is controlled directly through your settings and can be updated by\n",
        "\n",
        "*   Visiting https://<host-url>/settings\n",
        "*   Look for `Default Team` section\n",
        "*   Updating `Default location to create new projects` to entity of choice"
      ]
    },
    {
      "cell_type": "code",
      "execution_count": 28,
      "metadata": {
        "id": "J4Tn2Aj0FcIw"
      },
      "outputs": [],
      "source": [
        "import random\n",
        "import math\n",
        "\n",
        "WANDB_ENTITY = '<team-name>' #@param #Point to a team you are a member of!\n",
        "WANDB_PROJECT = \"workshop_wandb_intro\" #@param\n",
        "YOUR_NAME = \"uma\" #@param #We will use this for our filtering and grouping to make it easy for your to identify your runs in the project"
      ]
    },
    {
      "cell_type": "code",
      "execution_count": null,
      "metadata": {
        "id": "e3F58BBJwR-B"
      },
      "outputs": [],
      "source": [
        "# Track hyperparameters and run metadata\n",
        "WANDB_CONFIG = {\n",
        "    \"learning_rate\": 0.02,\n",
        "    \"architecture\": \"CNN\",\n",
        "    \"dataset\": \"CIFAR-100\",\n",
        "    \"epochs\": 10,\n",
        "}\n",
        "\n",
        "#Tags can be used to label runs with particular features that might not be obvious from the logged metrics\n",
        "WANDB_TAGS = [\"production\", \"baseline\"]\n",
        "\n",
        "\"\"\"\n",
        "The pattern of \"with wandb.init()...\" causes wandb.finish() to be called as\n",
        "soon as we leave the with block. This is especially useful when you have a script\n",
        "or notebook that initializes multiple runs that you want to track separately.\n",
        "\"\"\"\n",
        "\n",
        "# Launch 5 simulated experiments\n",
        "total_runs = 5\n",
        "for exp in range(total_runs):\n",
        "  #Start a new run to track this script\n",
        "  run = wandb.init(\n",
        "      entity=WANDB_ENTITY,       # Set the Entity to destination team\n",
        "      project=WANDB_PROJECT,     # Set the project where this run will be logged\n",
        "      name=f\"experiment_{exp}\",  # We pass a run name (otherwise it’ll be randomly assigned, like sunshine-lollypop-10)\n",
        "      group=f\"production_group_{YOUR_NAME}\", # For organizing runs (e.g. distributed training)\n",
        "      job_type='training',\t\t   # For organizing runs (e.g. preprocessing vs. training)\n",
        "      config=WANDB_CONFIG,       # For saving experiment parameters\n",
        "      tags= WANDB_TAGS           # For organizing runs together or applying temporary labels\n",
        "      )\n",
        "\n",
        "  # This simple block simulates a training loop logging metrics\n",
        "  epochs = 10\n",
        "  offset = random.random() / 5\n",
        "  for epoch in range(2, epochs):\n",
        "      acc = 1 - 2 ** -epoch - random.random() / epoch - offset\n",
        "      loss = 2 ** -epoch + random.random() / epoch + offset\n",
        "      # Scalar metrics can be logged by passing them in to  run.log as a dictionary with a name.\n",
        "      run.log({\"acc\": acc, \"loss\": loss})\n",
        "\n",
        "  # Mark the run as finished\n",
        "  run.finish()\n",
        "\n",
        "run_id_for_api = run.id #will be utilized when covering api usage"
      ]
    },
    {
      "cell_type": "markdown",
      "metadata": {
        "id": "HKxnEXB8qX9I"
      },
      "source": [
        "### Organizing logged metrics?\n",
        "\n",
        "We treat / as a separator for organizing logged panels in the W&B UI. By default, the component of the logged item's name before a / is used to define a group of panel called a \"Panel Section\".\n",
        "\n",
        "```\n",
        "run.log({\"val/loss\": 1.1, \"val/acc\": 0.3})\n",
        "run.log({\"train/loss\": 0.1, \"train/acc\": 0.94})\n",
        "```"
      ]
    },
    {
      "cell_type": "markdown",
      "metadata": {
        "id": "QAcJDrCvDCcP"
      },
      "source": [
        "\n",
        "### Wandb Step & Custom Metrics\n",
        "\n",
        "1. **What is the `wandb Step`?**\n",
        "    \n",
        "    The wandb step tracks the progression of your training or experimentation process. Steps are monotonically increasing and increment everytime you call `run.log({key:val})`. To keep your metrics step synchornized, we recommend you bundle your metrics into the same `log()` call.\n",
        "\n",
        "If interested in using a custom x axis that is not wandb step use `define_metric` to set a custom x axis.Custom x-axes are useful in contexts where you need to log to different time steps in the past during training, asynchronously. Example below\n"
      ]
    },
    {
      "cell_type": "code",
      "execution_count": null,
      "metadata": {
        "id": "EZFVKzfEDBrk"
      },
      "outputs": [],
      "source": [
        "#Organizing logged metrics\n",
        "run = wandb.init(\n",
        "    entity = WANDB_ENTITY,\n",
        "    project=WANDB_PROJECT,\n",
        "    group = YOUR_NAME,\n",
        "    name = \"organized_metrics_run\"\n",
        ")\n",
        "\n",
        "# Define a custom x axis metric\n",
        "wandb.define_metric(\"custom/custom_step\")\n",
        "\n",
        "# Define which metrics to plot against that x-axis\n",
        "wandb.define_metric(\"custom/unique_metric\", step_metric='custom/custom_step')\n",
        "\n",
        "epochs = 100\n",
        "offset = random.random() / 5\n",
        "for epoch in range(2, epochs):\n",
        "    val_acc = 1 - 2 ** -epoch - random.random() / epoch - offset\n",
        "    val_loss = 2 ** -epoch + random.random() / epoch + offset\n",
        "    train_acc = 1 - 2 ** -epoch - random.random() / epoch - offset\n",
        "    train_loss = 2 ** -epoch + random.random() / epoch + offset\n",
        "    run.log({\"train/acc\": train_acc,\n",
        "              \"train/loss\": train_loss,\n",
        "              \"val/acc\": val_acc,\n",
        "              \"val/loss\": val_loss,\n",
        "             \"custom/custom_step\": epoch**2,\n",
        "             \"custom/unique_metric\": 1/(epoch+1)\n",
        "             })\n",
        "\n",
        "run.finish()"
      ]
    },
    {
      "cell_type": "markdown",
      "metadata": {
        "id": "TKXlpgK0J4kF"
      },
      "source": [
        "## Run Resuming\n",
        "\n",
        "Resuming runs is a powerful feature that allows you to actively continue your trainings from where you left off. To resume runs, set the args `id` and `resume` when initializing the run, `wandb.init(id=<run-id>, resume=<val>)`. For more information on run resuming see our [resuming docs](https://docs.wandb.ai/guides/runs/resuming)\n",
        "\n",
        "| Argument | Description                                        | Run ID exists                                    | Run ID does not exist                                  | Use case                                           |\n",
        "|----------|----------------------------------------------------|--------------------------------------------------|-------------------------------------------------------|----------------------------------------------------|\n",
        "| `must`   | W&B must resume run specified by the run ID.       | W&B resumes run with the same run ID.            | W&B raises an error.                                  | Resume a run that must use the same run ID.        |\n",
        "| `allow`  | Allow W&B to resume run if run ID exists.          | W&B resumes run with the same run ID.            | W&B initializes a new run with specified run ID.      | Resume a run without overriding an existing run.   |\n",
        "| `never`  | Never allow W&B to resume a run specified by run ID. | W&B raises an error.                              | W&B initializes a new run with specified run ID.      | Prevent resumption and always start a new run.     |\n",
        "\n",
        "\n",
        "**Example Use Cases**\n",
        "\n",
        "**Long-Running Training Jobs:** When training a model on a large dataset that requires several days to complete, you might need to pause the job due to resource limits. Using run resume, you can restart the training process without losing progress.\n",
        "\n",
        "**Cluster Time Limits:** In environments where compute jobs are limited by wall-time (e.g., SLURM or other job schedulers), you can use the resume feature to pick up right where the job was terminated, making it easier to manage long-running experiments.\n",
        "\n",
        "**Experiment Interruptions:** In case of unexpected interruptions (e.g., hardware failure, power outage), the resume feature ensures that you can continue the experiment once the issue is resolved, preventing data loss and ensuring consistency."
      ]
    },
    {
      "cell_type": "code",
      "execution_count": null,
      "metadata": {
        "id": "wrUnaR6cJ4Ad"
      },
      "outputs": [],
      "source": [
        "run = wandb.init(\n",
        "    entity = WANDB_ENTITY,\n",
        "    project=WANDB_PROJECT,\n",
        "    group = f\"{YOUR_NAME}\",\n",
        "    name= f\"exp_run_with_resume_{YOUR_NAME}\"\n",
        ")\n",
        "\n",
        "#Log 5 points of the metric\n",
        "for i in range(5):\n",
        "  run.log({\"metric1\": i})\n",
        "\n",
        "\n",
        "run.finish()\n",
        "\n",
        "#First inspect run result before executing the cell below!"
      ]
    },
    {
      "cell_type": "code",
      "execution_count": null,
      "metadata": {
        "id": "lrWVEL7hZbQb"
      },
      "outputs": [],
      "source": [
        "resumed_run = wandb.init(\n",
        "    entity = WANDB_ENTITY,\n",
        "    project = WANDB_PROJECT,\n",
        "    group = f\"{YOUR_NAME}\",\n",
        "    name=  f\"exp_run_with_resume_{YOUR_NAME}\",\n",
        "    id = run.id, #If you do not pass in an id, wandb will use last known run id.\n",
        "    resume = \"must\"\n",
        ")\n",
        "\n",
        "#log an additional 5 points to metric1 and log a new metric, metric2. Notice how metric2 begins at step 5!\n",
        "for i in range(5):\n",
        "  resumed_run.log({\"metric1\": i,\n",
        "             \"metric2\": i**2})\n",
        "resumed_run.finish()\n"
      ]
    },
    {
      "cell_type": "markdown",
      "metadata": {
        "id": "DgRqnTWe4cg_"
      },
      "source": [
        "## Rich Media - Brief\n",
        "\n",
        "W&B supports images, video, audio, and more. Log rich media to explore your results and visually compare your runs, models, and datasets. Read on for examples and how-to guides.\n",
        "\n",
        "For a first list of loggable types check out [these docs](https://docs.wandb.ai/ref/python/data-types)."
      ]
    },
    {
      "cell_type": "markdown",
      "metadata": {
        "id": "1hmJOWiLudNi"
      },
      "source": [
        "### Logging a single image"
      ]
    },
    {
      "cell_type": "code",
      "execution_count": null,
      "metadata": {
        "id": "od_neLVjuTOc"
      },
      "outputs": [],
      "source": [
        "import wandb\n",
        "from PIL import Image\n",
        "import numpy as np\n",
        "\n",
        "# Initialize a new W&B run\n",
        "run = wandb.init(project=WANDB_PROJECT, name=\"image_logging_example\")\n",
        "\n",
        "# Load or create an image (example using a random numpy array)\n",
        "image = np.random.randint(0, 255, (100, 100, 3), dtype=np.uint8)  # Random 100x100 RGB image\n",
        "image_pil = Image.fromarray(image)\n",
        "\n",
        "# Log the image to W&B\n",
        "run.log({\"sample_image\": wandb.Image(image_pil)})\n",
        "\n",
        "# Finish the run\n",
        "run.finish()"
      ]
    },
    {
      "cell_type": "markdown",
      "metadata": {
        "id": "PRDDsZG6uovZ"
      },
      "source": [
        "To log an overlay, you'll need to provide a dictionary with the following keys and values to the `masks` keyword argument of `wandb.Image`:\n",
        "\n",
        "- one of two keys representing the image mask:\n",
        "  - \"mask_data\": a 2D NumPy array containing an integer class label for each pixel\n",
        "  - \"path\": (string) a path to a saved image mask file\n",
        "- \"class_labels\": (optional) a dictionary mapping the integer class labels in the image mask to their readable class names\n",
        "\n",
        "To log multiple masks, log a mask dictionary with multiple keys, as done below"
      ]
    },
    {
      "cell_type": "markdown",
      "metadata": {
        "id": "MxfnAIEQ4gHd"
      },
      "source": [
        "### Log Dataframes of Media\n",
        "\n",
        "You can also log `pandas.DataFrame` objects with `.log`! These will be converted into a `wandb.Table` (docs) and interactievly displayed inside of W&B.\n",
        "\n",
        "Note: One of the most powerful features of `wandb.Table`s is that you can include any `wandb` type as a cell value! This includes, images, plots, videos, audio... almost anything 🤩\n",
        "\n",
        "Below we will use a the Oxford-IIIT Pet Dataset of 37 different pet breeds along with corresponding segmentation masks provided in the annotations for logging media example"
      ]
    },
    {
      "cell_type": "code",
      "execution_count": null,
      "metadata": {
        "id": "-mhxhSv44igt"
      },
      "outputs": [],
      "source": [
        "!curl -SL -qq https://www.robots.ox.ac.uk/~vgg/data/pets/data/images.tar.gz > images.tar.gz\n",
        "!curl -SL -qq https://www.robots.ox.ac.uk/~vgg/data/pets/data/annotations.tar.gz > annotations.tar.gz\n",
        "!tar -xzf images.tar.gz\n",
        "!tar -xzf annotations.tar.gz"
      ]
    },
    {
      "cell_type": "code",
      "execution_count": null,
      "metadata": {
        "id": "RU3nYPr04j3n"
      },
      "outputs": [],
      "source": [
        "import os\n",
        "import wandb\n",
        "import numpy as np\n",
        "from PIL import Image\n",
        "from pathlib import Path"
      ]
    },
    {
      "cell_type": "code",
      "execution_count": null,
      "metadata": {
        "id": "-uK7GLQB4lfh"
      },
      "outputs": [],
      "source": [
        "#Utility functions\n",
        "\n",
        "# Function to load an image and mask\n",
        "def load_image_and_mask(image_path, mask_path):\n",
        "    image = np.array(Image.open(image_path))\n",
        "    mask = np.array(Image.open(mask_path))\n",
        "    return image, mask\n",
        "\n",
        "# Function to create W&B mask overlay\n",
        "def wb_mask(image, mask):\n",
        "    return wandb.Image(image, masks={\"predictions\": {\"mask_data\": mask}}, caption=\"Segmentation Image\")\n",
        "\n",
        "def log_single_images(path_img, path_lbl):\n",
        "  # Single Image and Mask Logging\n",
        "  image_path = path_img / 'Abyssinian_1.jpg'\n",
        "  mask_path = path_lbl / 'Abyssinian_1.png'\n",
        "  image_np, mask_np = load_image_and_mask(image_path, mask_path)\n",
        "  return image_np, mask_np\n",
        "\n",
        "def wandb_table_multiple_imags(path_img,path_lbl, num_images):\n",
        "    table = wandb.Table(columns=[\"ID\", \"Original Image\", \"Image with Mask\"])\n",
        "    # Multiple Images Logging in a Table\n",
        "    table = wandb.Table(columns=[\"ID\", \"Original Image\", \"Image with Mask\"])\n",
        "\n",
        "    # Log first X images and their masks to the table\n",
        "    for each in os.listdir(path_img)[:num_images]:  # limiting to first X images\n",
        "        image_path = path_img / each\n",
        "        mask_path = path_lbl / f'{Path(each).stem}.png'  # Adjust to match mask filenames\n",
        "        image_np, mask_np = load_image_and_mask(image_path, mask_path)\n",
        "\n",
        "        # Create mask overlay using W&B\n",
        "        mask_img = wb_mask(image_np, mask_np)\n",
        "\n",
        "        # Add image path, original image, and image with mask to the table\n",
        "        table.add_data(str(image_path), wandb.Image(image_np), mask_img)\n",
        "\n",
        "    return table"
      ]
    },
    {
      "cell_type": "markdown",
      "metadata": {
        "id": "cALg7cQV4pCV"
      },
      "source": [
        "Logging a single image and a table of images with segmentation masks"
      ]
    },
    {
      "cell_type": "code",
      "execution_count": null,
      "metadata": {
        "id": "EfH-0cx24ofw"
      },
      "outputs": [],
      "source": [
        "run = wandb.init(\n",
        "    entity = WANDB_ENTITY,\n",
        "    project=WANDB_PROJECT,\n",
        "    group=YOUR_NAME,\n",
        "    name=\"logging_rich_media\",\n",
        "    )\n",
        "\n",
        "# Define paths\n",
        "path_img = Path('images')\n",
        "path_lbl = Path('annotations/trimaps')\n",
        "\n",
        "image_np, mask_np = log_single_images(path_img, path_lbl)\n",
        "\n",
        "# Log single image and segmentation mask\n",
        "run.log({\n",
        "    \"input_image\": wandb.Image(image_np, caption=\"Input Image\"),\n",
        "    \"segmentation_mask\": wb_mask(image_np, mask_np)\n",
        "})\n",
        "\n",
        "#Log tables of images and segmentation mask\n",
        "image_tables = wandb_table_multiple_imags(path_img, path_lbl, 30)\n",
        "\n",
        "# Log the table\n",
        "run.log({\"Segmentation Table\": image_tables})\n",
        "\n",
        "run.finish()"
      ]
    },
    {
      "cell_type": "markdown",
      "metadata": {
        "id": "Awd2IAIa8T17"
      },
      "source": [
        "### Log Sequences of Media\n",
        "\n",
        "If you periodically call `run.log` to log a number (for example, loss), Weights & Biases will automatically render a line plot showing the change in that value over time (a loss curve). You can also log media under a key more than once over the course of an experiment, in which case Weights & Biases will display that media with a step slider so you can scrub over the course of the experiment and see how it changed. This is particularly useful for seeing how model predictions and visualizations of model performance (e.g. a precision/recall curve) change over time. In the example below, we log a `wandb.Image` repeatedly just to demonstrate how this works. Below is an example of doing the same with audio."
      ]
    },
    {
      "cell_type": "code",
      "execution_count": null,
      "metadata": {
        "id": "9IFsGTdP8Y6l"
      },
      "outputs": [],
      "source": [
        "%%sh\n",
        "curl https://parade.com/.image/t_share/MTkwNTgwOTUyNjU2Mzg5MjQ1/albert-einstein-quotes-jpg.jpg > image.jpg"
      ]
    },
    {
      "cell_type": "code",
      "execution_count": null,
      "metadata": {
        "id": "1Gp6oFiZ8cGC"
      },
      "outputs": [],
      "source": [
        "from PIL import Image, ImageFilter\n",
        "import pandas as pd\n",
        "# Load image with pillow, resize to 512 square\n",
        "im = Image.open(\"./image.jpg\").resize((512, 512))\n",
        "images = []\n",
        "with wandb.init(project = WANDB_PROJECT) as run:\n",
        "\n",
        "  for step in range(10):\n",
        "\n",
        "    # Log image\n",
        "    images.append( (step, wandb.Image(im)))\n",
        "    run.log({\"image\": wandb.Image(im)})\n",
        "\n",
        "    # Apply small Gaussian blur\n",
        "    im = im.filter(ImageFilter.GaussianBlur(radius=1.5))\n",
        "\n",
        "  # Also log the images + associated logging step to a W&B Table\n",
        "  run.log({ \"images_df\": pd.DataFrame( images, columns = [\"step\", \"images\"])})"
      ]
    },
    {
      "cell_type": "markdown",
      "metadata": {
        "id": "BzrY1MCnB9rT"
      },
      "source": [
        "## Anatomy of a `Run` 🩺\n",
        "\n",
        "The `Run` stores a detailed record of an experiment within a few specific data structures. The important things to know about are\n",
        "- `run.config` is a dictionary like structure that stores configuration data for a run, like the path to input data or training hyperparameters. You can instatiate the config by passing a dictionary to `wandb.init(config=<config-dict>)`.\n",
        "- `run.history` is a list of dictionaries that stores the sampled historical values of metrics and media over the course of an experiment. We can append a new snapshot of our training metrics by calling `run.log(<metric-dict>)` - full metrics access would be given via `run.scan_history`\n",
        "- `run.summary` is a dictionary for recording summary metrics or media. By default the `summary` will contain the most recent values logged for each metric, you can overwrite and add elements as you like.\n",
        "\n",
        "Use the [Public API](https://docs.wandb.ai/guides/track/public-api-guide#export-data) to interact with the data that you have saved to W&B.\n",
        "\n",
        "To use the Public API, you'll often need the run path which is `<entity>/<project>/<run_id>`, found in the run overview page, or the path to your projects\n",
        "\n",
        "\n",
        "A few basic examples below"
      ]
    },
    {
      "cell_type": "code",
      "execution_count": null,
      "metadata": {
        "id": "Phyqy4LHDpcx"
      },
      "outputs": [],
      "source": [
        "import numpy as np\n",
        "\n",
        "api = wandb.Api()\n",
        "\n",
        "run_id_for_api = \"\" # fill in the run path you would like to access. This can be found in the run overview page.\n",
        "\n",
        "#Output timestamp and loss saved with run.log({\"accuracy\": loss})\n",
        "run = api.run(f\"{WANDB_ENTITY}/{WANDB_PROJECT}/{run_id_for_api}\")\n",
        "for i, row in run.history().iterrows():\n",
        "    print(row[\"_timestamp\"], row[\"loss\"])\n",
        "\n",
        "#Update metrics for a run, after the run has finished\n",
        "run.summary[\"acc\"] = 0.9\n",
        "run.summary[\"accuracy_histogram\"] = wandb.Histogram(np.random.rand(5))\n",
        "run.summary.update()\n",
        "\n",
        "#Rename a metric in a run, after the run has finished\n",
        "run.summary[\"new_acc\"] = run.summary[\"acc\"]\n",
        "del run.summary[\"acc\"]\n",
        "run.summary.update()"
      ]
    },
    {
      "cell_type": "markdown",
      "metadata": {
        "id": "j_wn73fEzjqa"
      },
      "source": [
        "#### Querying all points in a run:\n"
      ]
    },
    {
      "cell_type": "code",
      "execution_count": null,
      "metadata": {
        "id": "_TAy-wuSzexE"
      },
      "outputs": [],
      "source": [
        "api = wandb.Api()\n",
        "\n",
        "\n",
        "# access the run object via the api\n",
        "run = api.run('<entity>/<project>/<run_id>') # pass in a run path once again!\n",
        "\n",
        "\n",
        "# full_history is an iterator that yields dictionaries from the run's history, one at a time.\n",
        "full_history = run.scan_history()\n",
        "\n",
        "\n",
        "# list of dictionaries where each dictionary represents a single step's data from the run's history.\n",
        "losses = [row for row in full_history]"
      ]
    },
    {
      "cell_type": "markdown",
      "metadata": {
        "id": "6dow4ugFKlZ1"
      },
      "source": [
        "# Hyperparameter tuning with sweeps"
      ]
    },
    {
      "cell_type": "markdown",
      "metadata": {
        "id": "gsyMaAZvMGaY"
      },
      "source": [
        "Fundamentally, a Sweep combines a strategy for trying out a bunch of hyperparameter values with the code that evalutes them. Whether that strategy is as simple as trying every option or as complex as BOHB, Weights & Biases Sweeps have you covered. You just need to define your strategy in the form of a configuration."
      ]
    },
    {
      "cell_type": "markdown",
      "metadata": {
        "id": "NQCyI5SHMIfa"
      },
      "source": [
        "###  Step 1️. Define the Sweep\n"
      ]
    },
    {
      "cell_type": "code",
      "execution_count": null,
      "metadata": {
        "id": "2jrYj_PcMO1-"
      },
      "outputs": [],
      "source": [
        "sweep_config = {\n",
        "    'method': 'bayes',\n",
        "    'name': 'sweep',\n",
        "    'metric': {\n",
        "        'goal': 'minimize',\n",
        "        'name': 'train/loss'\n",
        "        },\n",
        "    'parameters': {\n",
        "        'batch_size': {'values': [16, 32, 64]},\n",
        "        'learning_rate': {'max': 0.1, 'min': 0.0001},\n",
        "        'epochs': {'min': 5, 'max':15}\n",
        "\n",
        "     }\n",
        "}"
      ]
    },
    {
      "cell_type": "code",
      "execution_count": null,
      "metadata": {
        "id": "wXfbOm2xMNjO"
      },
      "outputs": [],
      "source": [
        "from pprint import pprint\n",
        "pprint(sweep_config)"
      ]
    },
    {
      "cell_type": "markdown",
      "metadata": {
        "id": "Ac4rm2tNODUg"
      },
      "source": [
        "### Step 2. Initialize the Sweep\n",
        "\n",
        "The clockwork taskmaster in charge of our Sweep is known as the Sweep Controller. As each run completes, it will issue a new set of instructions describing a new run to execute. These instructions are picked up by agents who actually perform the runs.\n",
        "\n",
        "In a typical Sweep, the Controller lives on the W&B server, while the agents who complete runs live on your machine(s), like in the diagram below. This division of labor makes it super easy to scale up Sweeps by just adding more machines to run agents!\n",
        "\n",
        "![image.png](data:image/png;base64,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)"
      ]
    },
    {
      "cell_type": "code",
      "execution_count": null,
      "metadata": {
        "id": "4-D5zhMtODG8"
      },
      "outputs": [],
      "source": [
        "sweep_id = wandb.sweep(sweep_config, project=WANDB_PROJECT)"
      ]
    },
    {
      "cell_type": "markdown",
      "metadata": {
        "id": "iCjTpT8fONg2"
      },
      "source": [
        "### Step 3. Define Training Procedure and run Sweep Agent"
      ]
    },
    {
      "cell_type": "code",
      "execution_count": null,
      "metadata": {
        "id": "wmrYQ3JBIBS0"
      },
      "outputs": [],
      "source": [
        "import torch\n",
        "import wandb\n",
        "from torch import nn\n",
        "from torch.utils.data import DataLoader\n",
        "from torchvision import transforms\n",
        "from torchvision.datasets import FashionMNIST\n",
        "\n",
        "# Define a simple transformation pipeline\n",
        "transform = transforms.Compose([\n",
        "    transforms.ToTensor()  # Directly convert PIL image to Tensor\n",
        "])\n",
        "\n",
        "# Load the dataset with the corrected transformation\n",
        "train_dataset = FashionMNIST(\"./data/\", download=True, train=True, transform=transform)\n",
        "\n",
        "\n",
        "# logging dataset as an artifact\n",
        "run = wandb.init(project=WANDB_PROJECT, entity=WANDB_ENTITY)\n",
        "\n",
        "artifact = wandb.Artifact(\"fashion_mnist_dataset\", type=\"dataset\")\n",
        "artifact.add_dir(\"./data/\")\n",
        "run.log_artifact(artifact)\n",
        "run.finish()\n"
      ]
    },
    {
      "cell_type": "code",
      "execution_count": null,
      "metadata": {
        "id": "CyiBJ_taORPz"
      },
      "outputs": [],
      "source": [
        "# Define the CNN model\n",
        "class FashionCNN(nn.Module):\n",
        "    def __init__(self):\n",
        "        super().__init__()\n",
        "        self.layer1 = nn.Sequential(\n",
        "            nn.Conv2d(1, 32, kernel_size=3, padding=1),\n",
        "            nn.BatchNorm2d(32),\n",
        "            nn.ReLU(),\n",
        "            nn.MaxPool2d(2, 2)\n",
        "        )\n",
        "        self.layer2 = nn.Sequential(\n",
        "            nn.Conv2d(32, 64, kernel_size=3),\n",
        "            nn.BatchNorm2d(64),\n",
        "            nn.ReLU(),\n",
        "            nn.MaxPool2d(2)\n",
        "        )\n",
        "        self.fc1 = nn.Linear(64 * 6 * 6, 600)\n",
        "        self.drop = nn.Dropout2d(0.25)\n",
        "        self.fc2 = nn.Linear(600, 120)\n",
        "        self.fc3 = nn.Linear(120, 10)\n",
        "\n",
        "    def forward(self, x):\n",
        "        x = self.layer1(x)\n",
        "        x = self.layer2(x)\n",
        "        x = x.view(x.size(0), -1)\n",
        "        x = self.fc1(x)\n",
        "        x = self.drop(x)\n",
        "        x = self.fc2(x)\n",
        "        x = self.fc3(x)\n",
        "        return x\n",
        "\n",
        "def train_fmnist(config=None):\n",
        "    run = wandb.init(config=config, job_type='hyperparameter-tuning')\n",
        "\n",
        "    artifact = run.use_artifact(f'{WANDB_ENTITY}/{WANDB_PROJECT}/fashion_mnist_dataset:v0', type='dataset')\n",
        "    config = run.config\n",
        "\n",
        "    device = torch.device(\"cuda:0\" if torch.cuda.is_available() else \"cpu\")\n",
        "    model = FashionCNN().to(device)\n",
        "\n",
        "    # Initialize DataLoader\n",
        "    train_loader = DataLoader(train_dataset, batch_size=config.batch_size, pin_memory=True)\n",
        "\n",
        "    criterion = nn.CrossEntropyLoss()\n",
        "    optimizer = torch.optim.Adam(model.parameters(), lr=config.learning_rate)\n",
        "\n",
        "    wandb.watch(model, log=\"all\", log_graph=True)\n",
        "\n",
        "    for epoch in range(config.epochs):\n",
        "        losses = []\n",
        "        for idx, (images, labels) in enumerate(train_loader):\n",
        "            images, labels = images.to(device), labels.to(device)\n",
        "            outputs = model(images)\n",
        "            loss = criterion(outputs, labels)\n",
        "            losses.append(loss.item())\n",
        "\n",
        "            if (idx + 1) % 25 == 0:\n",
        "                avg_loss = sum(losses) / len(losses)\n",
        "                run.log({\"train/loss\": avg_loss, \"train/losses\": wandb.Histogram(losses)})\n",
        "                losses = []\n",
        "\n",
        "            if idx == 0:\n",
        "                table = wandb.Table(columns=[\"image\", \"label\", \"prediction\"])\n",
        "                for im, lab, pred in zip(images, labels, outputs):\n",
        "                    pred_label = torch.argmax(pred).item()\n",
        "                    table.add_data(wandb.Image(im.cpu()), lab.item(), pred_label)\n",
        "                run.log({\"train/predictions\": table})\n",
        "\n",
        "            optimizer.zero_grad()\n",
        "            loss.backward()\n",
        "            optimizer.step()\n",
        "\n",
        "    torch.save(model.state_dict(), \"model.pth\")\n",
        "    model_artifact = wandb.Artifact(\"FashionMNIST-model\", type=\"model\")\n",
        "    model_artifact.add_file(\"model.pth\")\n",
        "    run.log_artifact(model_artifact)\n",
        "\n",
        "    run.finish()"
      ]
    },
    {
      "cell_type": "code",
      "execution_count": null,
      "metadata": {
        "collapsed": true,
        "id": "tY3D2WDEOVzu"
      },
      "outputs": [],
      "source": [
        "wandb.agent(sweep_id, train_fmnist, count=10)"
      ]
    },
    {
      "cell_type": "markdown",
      "metadata": {
        "id": "dbl9f2mjRKCS"
      },
      "source": [
        "## K-fold cross validation with sweeps + grouping"
      ]
    },
    {
      "cell_type": "code",
      "execution_count": null,
      "metadata": {
        "id": "_l08ioyPRJYE"
      },
      "outputs": [],
      "source": [
        "import wandb\n",
        "import numpy as np\n",
        "import sklearn\n",
        "from sklearn.model_selection import KFold\n",
        "import random\n",
        "\n",
        "# Sweep configuration\n",
        "sweep_config = {\n",
        "    'method': 'grid',  # other options: 'random', 'bayes'\n",
        "    'parameters': {\n",
        "        'learning_rate': {\n",
        "            'values': [0.001, 0.01, 0.1]\n",
        "        },\n",
        "        'epochs': {\n",
        "            'values': [5, 10]\n",
        "        }\n",
        "    }\n",
        "}"
      ]
    },
    {
      "cell_type": "code",
      "execution_count": null,
      "metadata": {
        "id": "PejauMhuazDS"
      },
      "outputs": [],
      "source": [
        "# Initialize the sweep\n",
        "sweep_id = wandb.sweep(sweep_config, project=\"kfold_crossval_sweep\")"
      ]
    },
    {
      "cell_type": "code",
      "execution_count": null,
      "metadata": {
        "id": "bsPIUGLAa2Ci"
      },
      "outputs": [],
      "source": [
        "# Mock dataset\n",
        "def generate_mock_data():\n",
        "    # Create some mock data for cross-validation\n",
        "    X = np.random.rand(100, 10)\n",
        "    y = np.random.randint(0, 2, 100)\n",
        "    return X, y\n",
        "\n",
        "# Train function with k-fold cross-validation\n",
        "def train(config=None):\n",
        "    # Initialize a new W&B run\n",
        "    with wandb.init(config=config, group=\"cross_validation_group\") as run:\n",
        "        config = wandb.config\n",
        "\n",
        "        # Generate mock data\n",
        "        X, y = generate_mock_data()\n",
        "\n",
        "        # Perform k-fold cross-validation\n",
        "        k = 5\n",
        "        kf = KFold(n_splits=k)\n",
        "        fold_metrics = []\n",
        "\n",
        "        for fold, (train_index, test_index) in enumerate(kf.split(X)):\n",
        "            # Split the data into training and testing sets\n",
        "            X_train, X_test = X[train_index], X[test_index]\n",
        "            y_train, y_test = y[train_index], y[test_index]\n",
        "\n",
        "\n",
        "            # Simulate a simple training process #\n",
        "            val_accuracy = random.uniform(0.5, 1.0)  # Random accuracy as a placeholder\n",
        "\n",
        "            # Log each fold's accuracy to W&B\n",
        "            wandb.log({\"fold\": fold, \"val_accuracy\": val_accuracy})\n",
        "            fold_metrics.append(val_accuracy)\n",
        "\n",
        "        # Log the average validation accuracy across all folds\n",
        "        avg_val_accuracy = np.mean(fold_metrics)\n",
        "        wandb.log({\"avg_val_accuracy\": avg_val_accuracy})"
      ]
    },
    {
      "cell_type": "code",
      "execution_count": null,
      "metadata": {
        "id": "rGUJwvCNa7yB"
      },
      "outputs": [],
      "source": [
        "wandb.agent(sweep_id, function=train)"
      ]
    },
    {
      "cell_type": "markdown",
      "metadata": {
        "id": "REWlYGW0INyL"
      },
      "source": [
        "# Artifacts\n",
        "\n",
        "Use W&B Artifacts to track and version data as the inputs and outputs of your W&B Runs. In addition to logging hyperparameters, metadata, and metrics to a run, you can use an artifact to log the dataset used to train the model as input and the resulting model checkpoints as outputs.\n",
        "\n",
        "\n"
      ]
    },
    {
      "cell_type": "markdown",
      "metadata": {
        "id": "etKMjkIWz45u"
      },
      "source": [
        "For this demo, we are going to go through the workflow of\n",
        "1. Creating a dataset\n",
        "2. Logging it to wandb\n",
        "3. Processing that dataset\n",
        "4. Logging the processed data to wandb\n",
        "5. Conducting model training\n",
        "6. Viewing the entire lineage of this process in the wandb UI"
      ]
    },
    {
      "cell_type": "markdown",
      "metadata": {
        "id": "Fr0H-G_9nDoQ"
      },
      "source": [
        "## Create a Dataset\n",
        "Let's create some datasets that we can work with in this example."
      ]
    },
    {
      "cell_type": "code",
      "execution_count": null,
      "metadata": {
        "id": "ho7TWxacm8k3"
      },
      "outputs": [],
      "source": [
        "import os\n",
        "import numpy as np\n",
        "import csv\n",
        "\n",
        "directory = \"dataset\"\n",
        "os.makedirs(directory, exist_ok=True)\n",
        "file1, file2 = os.path.join(directory, \"file1.csv\"), os.path.join(directory, \"file2.csv\")\n",
        "\n",
        "def generate_dummy_data(num_samples):\n",
        "    data = [\n",
        "        np.random.normal(50, 10, num_samples),\n",
        "        np.random.randint(1, 100, num_samples),\n",
        "        np.random.choice(['A', 'B', 'C', 'D'], num_samples),\n",
        "        np.random.uniform(0.0, 1.0, num_samples)\n",
        "    ]\n",
        "    return zip(*data)\n",
        "\n",
        "def save_to_csv(file, data):\n",
        "    with open(file, 'w', newline='') as f:\n",
        "        writer = csv.writer(f)\n",
        "        writer.writerow(['feature1', 'feature2', 'feature3', 'feature4'])\n",
        "        writer.writerows(data)\n",
        "\n",
        "num_samples = 100\n",
        "save_to_csv(file1, generate_dummy_data(num_samples))\n",
        "save_to_csv(file2, generate_dummy_data(num_samples))"
      ]
    },
    {
      "cell_type": "markdown",
      "metadata": {
        "id": "ESkuFmftqiX9"
      },
      "source": [
        "The general workflow for creating an Artifact is:\n",
        "\n",
        "1. Intialize a run.\n",
        "2. Create an Artifact.\n",
        "3. Add a any files, directories, or pointers to the new Artifact that you want to track and version.\n",
        "4. Log the artifact in the W&B platform."
      ]
    },
    {
      "cell_type": "markdown",
      "metadata": {
        "id": "1750nmI7tw8Y"
      },
      "source": [
        "See the [Artifacts Reference guide](https://www.google.com/url?q=https%3A%2F%2Fdocs.wandb.ai%2Fref%2Fpython%2Fartifact) for more information and other commonly used arguments, including how to store additional metadata.\n",
        "\n",
        "Each time the above `log_artifact` is executed, wandb will create a new version of the Artifact within Weights & Biases if the underlying data has changed."
      ]
    },
    {
      "cell_type": "markdown",
      "metadata": {
        "id": "8pbfQ-F2yxSB"
      },
      "source": [
        "## Logging this dataset artifact"
      ]
    },
    {
      "cell_type": "code",
      "execution_count": null,
      "metadata": {
        "id": "QyX4w4jAqfA2"
      },
      "outputs": [],
      "source": [
        "run = wandb.init(entity=WANDB_ENTITY, project=WANDB_PROJECT, job_type='log_dataset')\n",
        "\n",
        "artifact = wandb.Artifact(f\"my_first_artifact_{YOUR_NAME}\", type=\"dataset\")\n",
        "# the below will add two individual files to the artifact.\n",
        "artifact.add_file(local_path=f\"{directory}/file1.csv\")\n",
        "artifact.add_file(local_path=f\"{directory}/file2.csv\")\n",
        "\n",
        "# or the below if you wanted to add the entire directory contents.\n",
        "artifact.add_dir(local_path=f\"{directory}\")\n",
        "# explictly log the artifact to Weights & Biases.\n",
        "run.log_artifact(artifact)\n",
        "\n",
        "run.finish()"
      ]
    },
    {
      "cell_type": "markdown",
      "metadata": {
        "id": "trM9_rvT3Kmp"
      },
      "source": [
        "## Processing and Consuming the dataset Artifact"
      ]
    },
    {
      "cell_type": "markdown",
      "metadata": {
        "id": "t0BOwIDM3SQz"
      },
      "source": [
        "When you want to use a specific version of an Artifact in a downstream task, you can specify the specific version you would like to use via either `v0`, `v1`, `v2` and so on, or via specific aliases you may have added. The latest alias always refers to the most recent version of the Artifact logged.\n",
        "\n",
        "The proceeding code snippet specifies that the W&B Run will use an artifact called my_first_artifact with the alias latest. We will take a step to preprocess our dataset and relog it to wandb, so we can see the lineage up until this point:"
      ]
    },
    {
      "cell_type": "code",
      "execution_count": null,
      "metadata": {
        "id": "NDr-prUD_7hN"
      },
      "outputs": [],
      "source": [
        "run = wandb.init(entity=WANDB_ENTITY, project=WANDB_PROJECT, job_type='process_dataset')\n",
        "artifact = run.use_artifact(artifact_or_name=f\"my_first_artifact_{YOUR_NAME}:latest\") # this creates a reference within Weights & Biases that this artifact was used by this run.\n",
        "path = artifact.download() # this downloads the artifact from Weights & Biases to your local system where the code is executing.\n",
        "\n",
        "print(f\"Data directory located at {path}\")"
      ]
    },
    {
      "cell_type": "code",
      "execution_count": null,
      "metadata": {
        "id": "EzWv3wEfWyjf"
      },
      "outputs": [],
      "source": [
        "processed_directory = \"processed_dataset\"\n",
        "os.makedirs(processed_directory, exist_ok=True)\n",
        "file1, file2 = os.path.join(directory, \"file1_processed.csv\"), os.path.join(directory, \"file2_processed.csv\")"
      ]
    },
    {
      "cell_type": "code",
      "execution_count": null,
      "metadata": {
        "id": "fY6X_0PuVkSN"
      },
      "outputs": [],
      "source": [
        "# Step 2: Function to process and save the modified CSV data\n",
        "def process(input_file_path, output_file_path):\n",
        "    modified_data = []\n",
        "    with open(input_file_path, 'r') as f:\n",
        "        reader = csv.reader(f)\n",
        "        headers = next(reader)  # Skip headers\n",
        "        for row in reader:\n",
        "            # Example modification: Adjust feature1 by adding a constant\n",
        "            row[0] = str(float(row[0]) + 10)  # Modify feature1\n",
        "            modified_data.append(row)\n",
        "\n",
        "    # Save the modified data to the output path\n",
        "    with open(output_file_path, 'w', newline='') as f:\n",
        "        writer = csv.writer(f)\n",
        "        writer.writerow(headers)  # Write the headers back\n",
        "        writer.writerows(modified_data)\n",
        "\n",
        "# Apply modification to the CSV files\n",
        "process(os.path.join(path, \"file1.csv\"), os.path.join(processed_directory, \"file1_processed.csv\"))\n",
        "process(os.path.join(path, \"file2.csv\"), os.path.join(processed_directory, \"file2_processed.csv\"))"
      ]
    },
    {
      "cell_type": "code",
      "execution_count": null,
      "metadata": {
        "id": "GYfyaZpTTA0R"
      },
      "outputs": [],
      "source": [
        "# Step 4: Create a new artifact to store the modified data\n",
        "processed_artifact = wandb.Artifact(\n",
        "    f\"my_processed_artifact_{YOUR_NAME}\",\n",
        "    type=\"processed_dataset\"\n",
        ")\n",
        "\n",
        "# Add the modified CSV files to the new artifact\n",
        "processed_artifact.add_file(local_path=f\"{processed_directory}/file1_processed.csv\")\n",
        "processed_artifact.add_file(local_path=f\"{processed_directory}/file1_processed.csv\")\n",
        "\n",
        "# or the below if you wanted to add the entire directory contents.\n",
        "processed_artifact.add_dir(local_path=f\"{processed_directory}\")\n",
        "\n",
        "# Step 5: Log the processed artifact\n",
        "run.log_artifact(processed_artifact)\n",
        "\n",
        "# Finish the run\n",
        "run.finish()"
      ]
    },
    {
      "cell_type": "markdown",
      "metadata": {
        "id": "KnZWCPQoRDiO"
      },
      "source": [
        "## Using our dataset during model training"
      ]
    },
    {
      "cell_type": "code",
      "execution_count": null,
      "metadata": {
        "id": "yHu4gt7LIbjL"
      },
      "outputs": [],
      "source": [
        "import torch\n",
        "import torch.nn as nn\n",
        "\n",
        "run = wandb.init(\n",
        "    entity = WANDB_ENTITY,\n",
        "    project=WANDB_PROJECT,\n",
        "    group=YOUR_NAME,\n",
        "    job_type = \"training\",\n",
        "    config={'param': 42}\n",
        ")\n",
        "\n",
        "# Use our processed dataset in our training run\n",
        "# this creates a reference within Weights & Biases that this artifact was used by this run\n",
        "artifact = run.use_artifact(artifact_or_name=f\"my_processed_artifact_{YOUR_NAME}:latest\")\n",
        "\n",
        "#Save simple neural network model\n",
        "class SimpleModel(nn.Module):\n",
        "    def __init__(self):\n",
        "        super(SimpleModel, self).__init__()\n",
        "        self.fc1 = nn.Linear(10, 50)\n",
        "        self.fc2 = nn.Linear(50, 1)\n",
        "\n",
        "    def forward(self, x):\n",
        "        x = torch.relu(self.fc1(x))\n",
        "        x = self.fc2(x)\n",
        "        return x\n",
        "\n",
        "# Instantiate the model\n",
        "model = SimpleModel()\n",
        "\n",
        "# doing some dummy logging here\n",
        "for i in range(5):\n",
        "  run.log({\"acc\": random.random()})\n",
        "\n",
        "# Save the model and log to artifacts\n",
        "model_path = \"simple_model.pth\"\n",
        "torch.save(model.state_dict(), model_path)\n",
        "\n",
        "# Log the model as an artifact\n",
        "art = wandb.Artifact(name=f\"simple-model-{YOUR_NAME}\", type=f\"model\")\n",
        "art.add_file(model_path)\n",
        "run.log_artifact(art)\n",
        "\n",
        "run.finish()"
      ]
    },
    {
      "cell_type": "markdown",
      "metadata": {
        "id": "zxhnts5G-ZWe"
      },
      "source": [
        "For more information on ways to customize your Artifact download, including via the command line, see the [Download and Usage guide](https://docs.wandb.ai/guides/artifacts/download-and-use-an-artifact)."
      ]
    },
    {
      "cell_type": "markdown",
      "metadata": {
        "id": "Wv25K2MLztOr"
      },
      "source": [
        "## How can we see which experiments used a particular dataset?\n"
      ]
    },
    {
      "cell_type": "markdown",
      "metadata": {
        "id": "FxKTeSO063y-"
      },
      "source": [
        "If we want to see which wandb runs consumed a specific dataset, we can do this two ways:\n",
        "1. Viewing the lineage in the UI\n",
        "2. Programmatically accessing which run names and ids consumed a specific dataset (below)"
      ]
    },
    {
      "cell_type": "code",
      "execution_count": null,
      "metadata": {
        "id": "pta-CyiIzw4P"
      },
      "outputs": [],
      "source": [
        "run = wandb.init(\n",
        "    entity = WANDB_ENTITY,\n",
        "    project=WANDB_PROJECT,\n",
        ")\n",
        "\n",
        "artifact = run.use_artifact(artifact_or_name=f\"my_processed_artifact_{YOUR_NAME}:latest\")\n",
        "\n",
        "for run in artifact.used_by():\n",
        "  print(run.name)\n",
        "  print(run.summary)"
      ]
    },
    {
      "cell_type": "markdown",
      "metadata": {
        "id": "9egMJyHQsG1j"
      },
      "source": [
        "## Update Artifact version metadata\n",
        "You can update the description, metadata, and alias of an artifact on the W&B platform during or outside a W&B Run.\n",
        "\n",
        "This example changes the description of the my_first_artifact artifact inside a run:"
      ]
    },
    {
      "cell_type": "code",
      "execution_count": null,
      "metadata": {
        "id": "WqJeGfv8sMcF"
      },
      "outputs": [],
      "source": [
        "run = wandb.init(entity=WANDB_ENTITY, project=WANDB_PROJECT)\n",
        "artifact = run.use_artifact(artifact_or_name=f\"my_first_artifact_{YOUR_NAME}:latest\")\n",
        "artifact.description = \"This is an edited description.\"\n",
        "artifact.metadata = {\"source\": \"local disk\", \"internal data owner\": \"platform team\"}\n",
        "artifact.save()  # persists changes to an Artifact's properties\n",
        "run.finish()"
      ]
    },
    {
      "cell_type": "markdown",
      "metadata": {
        "id": "K-1UwWmJaGns"
      },
      "source": [
        "## Code Snippet for Logging Reference Artifacts"
      ]
    },
    {
      "cell_type": "markdown",
      "metadata": {
        "id": "WbeuzUScSseM"
      },
      "source": [
        "Artifacts currently support the following URI schemes:\n",
        "\n",
        "* **http(s)://:** A path to a file accessible over HTTP. The artifact will track checksums in the form of etags and size metadata if the HTTP server supports the ETag and Content-Length response headers.\n",
        "* **s3://:** A path to an object or object prefix in S3. The artifact will track checksums and versioning information (if the bucket has object versioning enabled) for the referenced objects. Object prefixes are expanded to include the objects under the prefix, default up to 100,000 objects.\n",
        "* **gs://:** A path to an object or object prefix in GCS. The artifact will track checksums and versioning information (if the bucket has object versioning enabled) for the referenced objects. Object prefixes are expanded to include the objects under the prefix, default up to 100,000 objects.\n",
        "See below for an example of reference local files"
      ]
    },
    {
      "cell_type": "code",
      "execution_count": null,
      "metadata": {
        "id": "5aR6RxpxSr9Y"
      },
      "outputs": [],
      "source": [
        "run = wandb.init(entity=WANDB_ENTITY,\n",
        "                project=WANDB_PROJECT,\n",
        "                job_type=\"upload-references\")\n",
        "artifact = wandb.Artifact(name=f\"local-file-references_{YOUR_NAME}\", type=\"reference-dataset\")\n",
        "artifact.add_reference(\"file:///content/sample_data\", checksum=True)\n",
        "run.log_artifact(artifact)\n",
        "run.finish()"
      ]
    },
    {
      "cell_type": "markdown",
      "metadata": {
        "id": "ozxtC0WVZGB2"
      },
      "source": [
        "## **Artifacts Time-to-live (TTL)**\n",
        "\n",
        "W&B Artifacts supports setting time-to-live policies on each version of an Artifact. The following examples show the use TTL policy in a common Artifact logging workflow. We'll cover:\n",
        "\n",
        "* Setting a TTL policy when creating an Artifact\n",
        "* Retroactively setting TTL for a specific Artifact aliases"
      ]
    },
    {
      "cell_type": "markdown",
      "metadata": {
        "id": "OoNcRyerZIrY"
      },
      "source": [
        "## Setting TTL on New Artifacts\n",
        "Below we create two new Artifacts from the colab provided sample_data\n",
        "- mnist_test.csv\n",
        "- mnist_train_small.csv\n",
        "\n",
        "Upload them as artifacts files to artifact of type `mnist_dataset` and assign them a TTL"
      ]
    },
    {
      "cell_type": "code",
      "execution_count": null,
      "metadata": {
        "id": "NFpn0tBRZK8L"
      },
      "outputs": [],
      "source": [
        "from datetime import timedelta\n",
        "\n",
        "run = wandb.init(entity=WANDB_ENTITY,\n",
        "                project=WANDB_PROJECT,\n",
        "                job_type=\"raw-data\")\n",
        "\n",
        "raw_mnist_train = wandb.Artifact(\n",
        "    f\"mnist_train_small_{YOUR_NAME}\",\n",
        "    type=\"mnist_dataset\",\n",
        "    description=\"Small MNIST Training Set\"\n",
        ")\n",
        "\n",
        "raw_mnist_train.add_file(\"sample_data/mnist_train_small.csv\")\n",
        "raw_mnist_train.ttl = timedelta(days=10)\n",
        "run.log_artifact(raw_mnist_train, aliases=[\"small\", \"mnist\", \"train\"])\n",
        "\n",
        "raw_mnist_test = wandb.Artifact(\n",
        "    f\"mnist_test_small_{YOUR_NAME}\",\n",
        "    type=\"mnist_dataset\",\n",
        "    description=\"Small MNIST Test Set\"\n",
        ")\n",
        "\n",
        "raw_mnist_test.add_file(\"sample_data/mnist_test.csv\")\n",
        "raw_mnist_test.ttl = timedelta(days=10)\n",
        "run.log_artifact(raw_mnist_test, aliases=[\"small\", \"mnist\", \"test\"])\n",
        "\n",
        "run.finish()"
      ]
    },
    {
      "cell_type": "markdown",
      "metadata": {
        "id": "lJ8JNB_nZQmS"
      },
      "source": [
        "# Full pipeline - data upload, model training, linking the best model to registry"
      ]
    },
    {
      "cell_type": "markdown",
      "metadata": {
        "id": "vCcKODegaSe1"
      },
      "source": [
        "The below pipeline includes:\n",
        "\n",
        "* Data Versioning: The Heart Disease dataset is split into training, validation, and test sets, each logged as a W&B artifact for easy tracking and reproducibility. The training dataset we linked to our dataset registry\n",
        "\n",
        "* Model Training: A neural network is trained on the training set, with performance monitored on the validation set. The best model version is saved and versioned as a W&B artifact which is then linked to our model registry\n",
        "\n",
        "* What It Showcases:\n",
        "How to use W&B for seamless data and model versioning.\n",
        "Best practices for tracking model performance during training and evaluation.\n",
        "Efficient and reproducible ML workflows in a production-ready environment."
      ]
    },
    {
      "cell_type": "code",
      "execution_count": 16,
      "metadata": {
        "id": "7rMVsil1ZQ4w"
      },
      "outputs": [],
      "source": [
        "COLLECTION_NAME = \"heart-disease\" #@param {type: \"string\"}"
      ]
    },
    {
      "cell_type": "code",
      "execution_count": 23,
      "metadata": {},
      "outputs": [],
      "source": [
        "import pandas as pd\n",
        "import torch\n",
        "from torch.utils.data import Dataset, DataLoader\n",
        "import numpy as np\n",
        "from io import StringIO\n",
        "\n",
        "# Load the Heart Disease dataset\n",
        "url = \"https://archive.ics.uci.edu/ml/machine-learning-databases/heart-disease/processed.cleveland.data\"\n",
        "columns = [\"age\", \"sex\", \"cp\", \"trestbps\", \"chol\", \"fbs\", \"restecg\",\n",
        "           \"thalach\", \"exang\", \"oldpeak\", \"slope\", \"ca\", \"thal\", \"target\"]"
      ]
    },
    {
      "cell_type": "code",
      "execution_count": 24,
      "metadata": {},
      "outputs": [],
      "source": [
        "# Data download and processing\n",
        "raw_data = !CURL https://archive.ics.uci.edu/ml/machine-learning-databases/heart-disease/processed.cleveland.data\n",
        "clean_rows = [\n",
        "    row\n",
        "    for row in raw_data\n",
        "    if row.strip()                  # drop the empty string\n",
        "       and \"--:--:--\" not in row    # progress-bar lines\n",
        "       and \"%\" not in row           # header / percent lines\n",
        "       and \"Dload\" not in row       # second header line\n",
        "]\n",
        "\n",
        "csv = '\\n'.join(clean_rows)\n",
        "data = pd.read_csv(StringIO(csv), header=None, names=columns)\n",
        "\n",
        "# Replace missing values ('?') with NaN and drop rows with NaN values\n",
        "data.replace('?', np.nan, inplace=True)\n",
        "data = data.dropna().astype(float)\n",
        "\n",
        "# Convert target variable: 0 = no heart disease, 1 = presence of heart disease\n",
        "data['target'] = (data['target'] > 0).astype(int)\n",
        "\n",
        "# Shuffle the dataset to ensure random distribution\n",
        "data = data.sample(frac=1, random_state=42).reset_index(drop=True)\n",
        "\n",
        "# Perform a train/validation/test split (60/20/20)\n",
        "train_size = int(0.6 * len(data))\n",
        "val_size = int(0.2 * len(data))\n",
        "test_size = len(data) - train_size - val_size\n",
        "\n",
        "train_data = data[:train_size]\n",
        "val_data = data[train_size:train_size + val_size]\n",
        "test_data = data[train_size + val_size:]\n",
        "\n",
        "# Save the entire dataset as a CSV file\n",
        "data.to_csv(\"heart_disease_full_dataset.csv\", index=False)"
      ]
    },
    {
      "cell_type": "markdown",
      "metadata": {
        "id": "7TJZOIJRal_k"
      },
      "source": [
        "The following function is used to save a dataset to a file and log it as an artifact"
      ]
    },
    {
      "cell_type": "code",
      "execution_count": 26,
      "metadata": {
        "id": "-6y_SYLwampB"
      },
      "outputs": [],
      "source": [
        "# Simple function to save log dataset artifacts\n",
        "def save_and_log_dataset(data, filename, artifact_name, aliases):\n",
        "    # Save the dataset as a CSV file\n",
        "    data.to_csv(filename, index=False)\n",
        "\n",
        "    # Create and log the dataset artifact\n",
        "    dataset_artifact = wandb.Artifact(name=artifact_name, type='dataset')\n",
        "    dataset_artifact.add_file(filename)\n",
        "    wandb.log_artifact(dataset_artifact, aliases=aliases)\n",
        "\n",
        "    return dataset_artifact"
      ]
    },
    {
      "cell_type": "markdown",
      "metadata": {
        "id": "iPNJrBpUaxaI"
      },
      "source": [
        "The following cell is going to save our train, validation, and test datasets as artifacts, as well as link our training dataset to our Training Datasets registry"
      ]
    },
    {
      "cell_type": "code",
      "execution_count": null,
      "metadata": {
        "id": "Pag6Dbjsayyz"
      },
      "outputs": [],
      "source": [
        "#Upload data to wandb\n",
        "\n",
        "run = wandb.init(entity=WANDB_ENTITY,\n",
        "                project=WANDB_PROJECT,\n",
        "                group = YOUR_NAME,\n",
        "                job_type=\"heart-disease-data-uploads\",\n",
        "                name = f\"heart_disease_data_uploads_{YOUR_NAME}\",\n",
        "                tags = [\"data-upload\"]\n",
        "                )\n",
        "\n",
        "# Save and log the entire dataset\n",
        "full_artifact = save_and_log_dataset(data, \"heart_disease_full_dataset.csv\", f'heart_disease_full_dataset_{YOUR_NAME}', [\"initial_commit\", \"complete_dataset\"])\n",
        "\n",
        "# Save and log the training dataset\n",
        "train_artifact = save_and_log_dataset(train_data, \"heart_disease_train_dataset.csv\", f'heart_disease_train_dataset_{YOUR_NAME}', [\"initial_commit\", \"train_split\"])\n",
        "\n",
        "# Save and log the validation dataset\n",
        "val_artifact = save_and_log_dataset(val_data, \"heart_disease_val_dataset.csv\", f'heart_disease_validation_dataset_{YOUR_NAME}', [\"initial_commit\", \"validation_split\"])\n",
        "\n",
        "# Save and log the test dataset\n",
        "test_artifact = save_and_log_dataset(test_data, \"heart_disease_test_dataset.csv\", f'heart_disease_test_dataset_{YOUR_NAME}', [\"initial_commit\", \"test_split\"])\n",
        "\n",
        "\n",
        "#Log all dataset to W&B tables for visual analysis\n",
        "run.log({f\"train_data_table_{YOUR_NAME}\": wandb.Table(dataframe=train_data),\n",
        "           f\"test_data_table_{YOUR_NAME}\": wandb.Table(dataframe=test_data),\n",
        "           f\"validation_data_table_{YOUR_NAME}\": wandb.Table(dataframe=val_data)})\n",
        "\n",
        "# Linking Training Dataset to collection in dataset registry\n",
        "target_path = f\"wandb-registry-dataset/{COLLECTION_NAME}\"\n",
        "\n",
        "# this line will only work if you are logging to a team entity - which has access to Registry\n",
        "run.link_artifact(\n",
        "  artifact=train_artifact,\n",
        "  target_path= target_path\n",
        ")\n",
        "\n",
        "run.finish()"
      ]
    },
    {
      "cell_type": "markdown",
      "metadata": {
        "id": "LR42aD8la41X"
      },
      "source": [
        "The following cell is going to pull the latest training dataset from our training dataset registry so we can start training on it.\n",
        "\n",
        "During training, we save our model checkpoints as artifacts, but we're going to promote our best model from our training to our model registry"
      ]
    },
    {
      "cell_type": "code",
      "execution_count": 30,
      "metadata": {
        "id": "wPd14KnQa6eN"
      },
      "outputs": [],
      "source": [
        "import torch\n",
        "import torch.nn as nn\n",
        "import torch.optim as optim\n",
        "import torch.nn.functional as F"
      ]
    },
    {
      "cell_type": "code",
      "execution_count": null,
      "metadata": {
        "id": "VbrZUSXZa7rz"
      },
      "outputs": [],
      "source": [
        "import torch.nn as nn\n",
        "import torch.optim as optim\n",
        "import torch.nn.functional as F\n",
        "\n",
        "#simple function for loading artifacts from wandb\n",
        "def load_and_split_data(entity, project, artifact_name, your_name, split_name):\n",
        "\n",
        "    artifact_full_name = f'{entity}/{project}/{artifact_name}_{your_name}:latest'\n",
        "    artifact = wandb.use_artifact(artifact_full_name, type='dataset')\n",
        "    artifact_dir = artifact.download()#If you are using local version of artifact, you can simple utilize wandb.use_artifact() only instead of downloading to associated lineage to the artifact\n",
        "\n",
        "    data = pd.read_csv(f\"{artifact_dir}/heart_disease_{split_name}_dataset.csv\")\n",
        "\n",
        "    X = torch.tensor(data.drop(\"target\", axis=1).values, dtype=torch.float32)\n",
        "    y = torch.tensor(data[\"target\"].values, dtype=torch.float32)\n",
        "\n",
        "    return X, y\n",
        "\n",
        "\n",
        "# Initialize training run\n",
        "run = wandb.init(entity=WANDB_ENTITY,\n",
        "                project=WANDB_PROJECT,\n",
        "                group = YOUR_NAME,\n",
        "                job_type=\"heart-disease-training\",\n",
        "                name = f\"heart_disease_training_validation_{YOUR_NAME}\"\n",
        "                )\n",
        "\n",
        "\n",
        "# Explicitly accessing Training data\n",
        "artifact = run.use_artifact('wandb-registry-Training Datasets/heart-disease:latest', type='dataset')\n",
        "artifact_dir = artifact.download()\n",
        "\n",
        "data = pd.read_csv(f\"{artifact_dir}/heart_disease_train_dataset.csv\")\n",
        "\n",
        "X_train = torch.tensor(data.drop(\"target\", axis=1).values, dtype=torch.float32)\n",
        "y_train = torch.tensor(data[\"target\"].values, dtype=torch.float32)\n",
        "\n",
        "# Load validation data\n",
        "X_val, y_val = load_and_split_data(WANDB_ENTITY, WANDB_PROJECT, 'heart_disease_validation_dataset', YOUR_NAME, 'val')\n",
        "\n",
        "# Define a simple neural network model\n",
        "class HeartDiseaseModel(nn.Module):\n",
        "    def __init__(self, input_size):\n",
        "        super(HeartDiseaseModel, self).__init__()\n",
        "        self.fc1 = nn.Linear(input_size, 128)\n",
        "        self.bn1 = nn.BatchNorm1d(128)\n",
        "        self.fc2 = nn.Linear(128, 64)\n",
        "        self.bn2 = nn.BatchNorm1d(64)\n",
        "        self.fc3 = nn.Linear(64, 32)\n",
        "        self.bn3 = nn.BatchNorm1d(32)\n",
        "        self.fc4 = nn.Linear(32, 16)\n",
        "        self.fc5 = nn.Linear(16, 1)\n",
        "        self.dropout = nn.Dropout(0.5)\n",
        "\n",
        "    def forward(self, x):\n",
        "        x = F.relu(self.bn1(self.fc1(x)))\n",
        "        x = self.dropout(x)\n",
        "        x = F.relu(self.bn2(self.fc2(x)))\n",
        "        x = self.dropout(x)\n",
        "        x = F.relu(self.bn3(self.fc3(x)))\n",
        "        x = self.dropout(x)\n",
        "        x = F.relu(self.fc4(x))\n",
        "        x = torch.sigmoid(self.fc5(x))\n",
        "        return x\n",
        "\n",
        "model = HeartDiseaseModel(input_size=X_train.shape[1])\n",
        "criterion = nn.BCELoss()\n",
        "optimizer = optim.Adam(model.parameters(), lr=0.001)\n",
        "\n",
        "best_performance = float('inf')\n",
        "version = 1\n",
        "\n",
        "for epoch in range(100):\n",
        "    model.train()\n",
        "    optimizer.zero_grad()\n",
        "    outputs = model(X_train).squeeze()\n",
        "    loss = criterion(outputs, y_train)\n",
        "    loss.backward()\n",
        "    optimizer.step()\n",
        "\n",
        "    # Calculate and log training accuracy\n",
        "    predictions = (outputs >= 0.5).float()\n",
        "    train_accuracy = (predictions == y_train).float().mean().item()\n",
        "\n",
        "    run.log({\"train/epoch\": epoch, \"train/train_loss\": loss.item(), \"train/train_accuracy\": train_accuracy})\n",
        "\n",
        "    # Evaluate the model on validation set\n",
        "    model.eval()\n",
        "    with torch.no_grad():\n",
        "        val_outputs = model(X_val).squeeze()\n",
        "        val_loss = criterion(val_outputs, y_val).item()\n",
        "\n",
        "        # Calculate and log validation accuracy\n",
        "        val_predictions = (val_outputs >= 0.5).float()\n",
        "        val_accuracy = (val_predictions == y_val).float().mean().item()\n",
        "\n",
        "        run.log({\"val/val_loss\": val_loss, \"val/val_accuracy\": val_accuracy})\n",
        "\n",
        "        if val_loss < best_performance:\n",
        "            best_performance = val_loss\n",
        "            model_path = f\"heart_disease_model_v{version}.pth\"\n",
        "            torch.save(model.state_dict(), model_path)\n",
        "            artifact = wandb.Artifact(name=f'heart_disease_model_{YOUR_NAME}', type='model')\n",
        "            artifact.add_file(model_path)\n",
        "            wandb.log_artifact(artifact, aliases=[f\"v{version}\", \"best\"])\n",
        "            version += 1\n",
        "\n",
        "# linking the best model to collection in model registry\n",
        "target_path = f\"wandb-registry-Model/{COLLECTION_NAME}\"\n",
        "\n",
        "# Giving it the production alias since this is our best model32\n",
        "# this line will only work if you are logging to a team entity\n",
        "run.link_artifact(\n",
        "  artifact=artifact,\n",
        "  target_path= target_path,\n",
        "  aliases=[\"production\"]\n",
        ")\n",
        "\n",
        "run.finish()"
      ]
    },
    {
      "cell_type": "markdown",
      "metadata": {
        "id": "svLInvkjIRD9"
      },
      "source": [
        "# Expanded Capabilities\n",
        "\n",
        "Here are some more expanded capabilities of the SDK that we didn't get a chance to touch on today, but am including for reference:\n",
        "1. Custom Charts\n",
        "2. Offline Runs\n",
        "3. Alerts\n",
        "4. Logging Rich Media\n",
        "5. Settings & Environment Variables\n"
      ]
    },
    {
      "cell_type": "markdown",
      "metadata": {
        "id": "Tb-l3hbPWcco"
      },
      "source": [
        "### Custom Charts"
      ]
    },
    {
      "cell_type": "markdown",
      "metadata": {
        "id": "Kk0HOxb7iHRw"
      },
      "source": [
        "You can create Custom Charts to create charts that are more complex and not offered by the default UI. Log arbitrary tables of data and visualize them exactly how you want. Control details of fonts, colors, and tooltips with the power of Vega. Below is an example of logging a PR curve using a built-in Vega spec.\n",
        "\n",
        "Try even more examples in this [colab](https://tiny.cc/custom-charts)"
      ]
    },
    {
      "cell_type": "code",
      "execution_count": null,
      "metadata": {
        "id": "o_lhO3BCiG_n"
      },
      "outputs": [],
      "source": [
        "run = wandb.init(project='my-awesome-project')\n",
        "\n",
        "# Generate dummy ground truth and prediction values\n",
        "# Assume we have 3 classes for a multi-class classification problem\n",
        "\n",
        "# Number of samples\n",
        "num_samples = 100\n",
        "\n",
        "# Number of classes\n",
        "num_classes = 3\n",
        "\n",
        "# Ground truth labels (random integers between 0 and num_classes-1)\n",
        "ground_truth = np.random.randint(0, num_classes, size=num_samples)\n",
        "\n",
        "# Prediction probabilities (random float values between 0 and 1, for each class)\n",
        "predictions = np.random.rand(num_samples, num_classes)\n",
        "\n",
        "# Normalize the predictions so that they sum to 1 for each sample (softmax-like behavior)\n",
        "predictions = predictions / predictions.sum(axis=1, keepdims=True)\n",
        "\n",
        "# Optional labels for the classes\n",
        "labels = ['Class 0', 'Class 1', 'Class 2']\n",
        "\n",
        "# Classes to plot (if you want to limit to specific classes)\n",
        "classes_to_plot = [0, 1, 2]\n",
        "\n",
        "# Generate the PR curve using wandb\n",
        "pr_curve_plot = wandb.plot.pr_curve(ground_truth, predictions, labels=labels, classes_to_plot=classes_to_plot)\n",
        "\n",
        "plot = wandb.plot.pr_curve(ground_truth, predictions, labels=None, classes_to_plot=None)\n",
        "\n",
        "run.log({\"pr_curve\": plot})\n",
        "\n",
        "run.finish()"
      ]
    },
    {
      "cell_type": "markdown",
      "metadata": {
        "id": "ei06CM-UXVNq"
      },
      "source": [
        "### Offline Runs 📶\n",
        "\n",
        "If you're training on an offline machine and want to upload your results to our servers afterwards, we have a feature for you!\n",
        "\n",
        "1. When executing a wandb run, set `mode=\"offline\"` to save the metrics locally, no internet required.\n",
        "\n",
        "2. When you're ready, run wandb init in your directory to set the project name.\n",
        "Run wandb sync `YOUR_RUN_DIRECTORY` to push the metrics to your instance."
      ]
    },
    {
      "cell_type": "code",
      "execution_count": null,
      "metadata": {
        "id": "YYIA5--4X5Z4"
      },
      "outputs": [],
      "source": [
        "offline_run = wandb.init(\n",
        "    entity = WANDB_ENTITY,\n",
        "    project = WANDB_PROJECT,\n",
        "    group = f\"{YOUR_NAME}\",\n",
        "    name=  f\"exp_run_offline_mode_{YOUR_NAME}\",\n",
        "    mode = \"offline\"\n",
        ")\n",
        "\n",
        "for i in range(10):\n",
        "  wandb.log({\"offline-metric\": i})\n",
        "\n",
        "wandb.finish()"
      ]
    },
    {
      "cell_type": "code",
      "execution_count": null,
      "metadata": {
        "id": "VOt8kSJJYOiq"
      },
      "outputs": [],
      "source": [
        "#copy the line below \"You can sync this run to the cloud by running\" to sync your run to your instance\n",
        "#!wandb sync /content/wandb/offline-run-20240816_224835-xs7hs2vy #uncomment"
      ]
    },
    {
      "cell_type": "markdown",
      "metadata": {
        "id": "mxQjCh2Gl1JF"
      },
      "source": [
        "### 🔔 Try W&B Alerts\n",
        "\n",
        "**[W&B Alerts](https://docs.wandb.ai/guides/track/alert)** allows you to send alerts, triggered from your Python code, to your Slack or email. There are 2 steps to follow the first time you'd like to send a Slack or email alert, triggered from your code:\n",
        "\n",
        "1) Turn on Alerts in your W&B [User Settings](https://wandb.ai/settings)\n",
        "\n",
        "2) Add `wandb.alert()` to your code:\n",
        "\n",
        "```python\n",
        "wandb.alert(\n",
        "    title=\"Low accuracy\",\n",
        "    text=f\"Accuracy is below the acceptable threshold\"\n",
        ")\n",
        "```\n",
        "\n",
        "See the minimal example below to see how to use `wandb.alert`. You can find the full docs for **[W&B Alerts here](https://docs.wandb.ai/guides/track/alert)**"
      ]
    },
    {
      "cell_type": "code",
      "execution_count": null,
      "metadata": {
        "id": "nnU9wEmdmHl9"
      },
      "outputs": [],
      "source": [
        "import random\n",
        "\n",
        "run = wandb.init(\n",
        "    entity = WANDB_ENTITY,\n",
        "    project=WANDB_PROJECT,\n",
        "    group = f\"{YOUR_NAME}\",\n",
        "    name=  f\"exp_run_with_alerts_{YOUR_NAME}\",\n",
        ")\n",
        "\n",
        "#Simulated Code\n",
        "acc_threshold = 0.3\n",
        "for training_step in range(1000):\n",
        "\n",
        "    # Generate a random number for accuracy\n",
        "    accuracy = round(random.random() + random.random(), 3)\n",
        "\n",
        "    # Log accuracy to wandb\n",
        "    wandb.log({\"Accuracy\": accuracy})\n",
        "\n",
        "    # 🔔 If the accuracy is below the threshold, fire a W&B Alert and stop the run\n",
        "    if accuracy <= acc_threshold:\n",
        "        print(f'Accuracy is: {accuracy}, acceptable threshold is {acc_threshold}')\n",
        "        #Send the wandb Alert\n",
        "        wandb.alert(\n",
        "            title='Low Accuracy',\n",
        "            text=f'Accuracy {accuracy} at step {training_step} is below the acceptable theshold, {acc_threshold}',\n",
        "        )\n",
        "        print('Alert triggered')\n",
        "        break\n",
        "\n",
        "wandb.finish()"
      ]
    },
    {
      "cell_type": "markdown",
      "metadata": {
        "id": "IQznRZXcLWaW"
      },
      "source": [
        "### Logging Audio"
      ]
    },
    {
      "cell_type": "code",
      "execution_count": null,
      "metadata": {
        "id": "pATxqm8I40FX"
      },
      "outputs": [],
      "source": [
        "# Initialize a new run\n",
        "run = wandb.init(name=\"audio_waveform\")\n",
        "\n",
        "# Generate audio data\n",
        "fs = 44100 # sampling frequency, Hz\n",
        "length = 3  # length, seconds\n",
        "xs = np.linspace(0, length, num=fs * length)\n",
        "waveform = np.sin(fs * 2 * np.pi / 40  * xs ** 2)\n",
        "\n",
        "# Log audio data\n",
        "run.log({\"examples\":\n",
        "           [wandb.Audio(waveform, caption=\"Boop\", sample_rate=fs)]})\n",
        "\n",
        "run.finish()"
      ]
    },
    {
      "cell_type": "markdown",
      "metadata": {
        "id": "LyYxZTSBsHGM"
      },
      "source": [
        "### Settings and Environment Variables"
      ]
    },
    {
      "cell_type": "markdown",
      "metadata": {
        "id": "tKiQgh3FsMJI"
      },
      "source": [
        "### Wandb Run Settings\n",
        "\n",
        "The [Optional environment variables docs](https://docs.wandb.ai/guides/track/environment-variables#optional-environment-variables) outlines a list of environment variables that the user can update to control wandb before the script runs or within the script.\n",
        "\n",
        "## Considerations\n",
        "\n",
        "1. Arguments passed to wandb.init take precedence over the environment. You could call `wandb.init(dir=os.getenv(\"WANDB_DIR\", my_default_override))` if you want to have a default other than the system default when the environment variable isn't set.\n",
        "\n",
        "2. Run settings can be altered directly through `wandb.init()` via settings argument `settings=wandb.Settings(<setting>=<value>)`. For full list of settings, see latest through our github public repo `wandb_settings.py` [file](https://github.com/wandb/wandb/blob/db6129e3a81cd0eaa7f893df2780345fa5878108/wandb/sdk/wandb_settings.py#L296)\n",
        "\n",
        "Some of the frequently asked used envars:"
      ]
    },
    {
      "cell_type": "code",
      "execution_count": null,
      "metadata": {
        "id": "Zov5y3BDsShy"
      },
      "outputs": [],
      "source": [
        "# Run Setup\n",
        "os.environ['WANDB_API_KEY'] = \"<your-api-key>\" #Your wandb API key\n",
        "os.environ['WANDB_ENTITY'] = WANDB_ENTITY #Your wandb entity name\n",
        "os.environ['WANDB_PROJECT'] = WANDB_PROJECT #Your wandb project name\n",
        "os.environ['WANDB_DIR'] = \"working_dir\" #Absolute path to store all generated files instead of the wandb directory relative to your training script\n",
        "os.environ['WANDB_CONFIG_PATHS'] = \"config-defaults.yaml\" #Key-value pairs are automatically passed to wandb.config if you create a file called config-defaults.yaml.\n",
        "os.environ['WANDB_CONSOLE'] = \"off\" #Disable stdout / stderr logging.\n",
        "\n",
        "# Artifacts - We will do a deep dive on these during our Artifacts discussion\n",
        "os.environ[\"WANDB_CACHE_DIR\"] = \"art_cache_dir\"\n",
        "os.environ[\"WANDB_DATA_DIR\"] = \"art_staging_dir\"\n",
        "\n",
        "run = wandb.init(\n",
        "    entity = WANDB_ENTITY,\n",
        "    project=WANDB_PROJECT,\n",
        "    group=YOUR_NAME,\n",
        "    name=\"run_custom_settings\",\n",
        "    #config=wandb.config, #config-defaults.yaml automatically loads into wandb.config\n",
        "    settings = wandb.Settings(run_id=\"ABCDEFGH\", #Override Run ID\n",
        "                              root_dir=\"working_dir\",  #Override working directory\n",
        "                              save_code=False #Disable code saving just for this run\n",
        "                              )\n",
        ")\n",
        "\n",
        "# Insert Training Logic\n",
        "\n",
        "run.finish()"
      ]
    },
    {
      "cell_type": "markdown",
      "metadata": {
        "id": "kQcYytgIHwlq"
      },
      "source": [
        "#Outro"
      ]
    },
    {
      "cell_type": "markdown",
      "metadata": {
        "id": "MM9Erz8Xm3Ev"
      },
      "source": [
        "Thank you for following with me today as we explored experiment tracking and artifacts in weights and biases. Below you will find additional resources that cover best practices and recommendations.\n",
        "\n",
        "- [Weights & Biases End-to-End Demo Video](https://www.youtube.com/watch?v=tHAFujRhZLA)\n",
        "- [W&B Best Practices Guide](https://wandb.ai/wandb/pytorch-lightning-e2e/reports/W-B-Best-Practices-Guide--VmlldzozNTU1ODY1)\n",
        "- [Weights & Biases Documentation ](https://docs.wandb.ai/)\n"
      ]
    }
  ],
  "metadata": {
    "colab": {
      "collapsed_sections": [
        "QAcJDrCvDCcP",
        "BzrY1MCnB9rT",
        "dbl9f2mjRKCS",
        "Wv25K2MLztOr",
        "9egMJyHQsG1j",
        "OoNcRyerZIrY",
        "svLInvkjIRD9",
        "ei06CM-UXVNq",
        "mxQjCh2Gl1JF"
      ],
      "provenance": []
    },
    "kernelspec": {
      "display_name": "tf",
      "language": "python",
      "name": "python3"
    },
    "language_info": {
      "codemirror_mode": {
        "name": "ipython",
        "version": 3
      },
      "file_extension": ".py",
      "mimetype": "text/x-python",
      "name": "python",
      "nbconvert_exporter": "python",
      "pygments_lexer": "ipython3",
      "version": "3.11.4"
    }
  },
  "nbformat": 4,
  "nbformat_minor": 0
}
