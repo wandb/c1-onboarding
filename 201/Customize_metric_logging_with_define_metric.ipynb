{
 "cells": [
  {
   "cell_type": "markdown",
   "metadata": {},
   "source": [
    "<a href=\"https://colab.research.google.com/github/wandb/examples/blob/master/colabs/wandb-log/Customize_metric_logging_with_define_metric.ipynb\" target=\"_parent\"><img src=\"https://colab.research.google.com/assets/colab-badge.svg\" alt=\"Open In Colab\"/></a>\n",
    "<!--- @wandbcode{define_metric} -->"
   ]
  },
  {
   "cell_type": "markdown",
   "metadata": {},
   "source": [
    "![wandb-logo](http://wandb.me/logo-im-png)\n",
    "\n",
    "<!--- @wandbcode{define_metric} -->\n",
    "\n",
    "\n",
    "# Define your custom metrics with `define_metric`\n",
    "\n",
    "Use `define_metric` to set custom x-axes or capture the min and max values of your metrics. \n",
    "\n",
    "For more details, [see the docs](http://wandb.me/define-metric-docs). "
   ]
  },
  {
   "cell_type": "code",
   "execution_count": 1,
   "metadata": {},
   "outputs": [],
   "source": [
    "!pip install wandb -Uq"
   ]
  },
  {
   "cell_type": "code",
   "execution_count": 2,
   "metadata": {},
   "outputs": [],
   "source": [
    "\n",
    "import wandb\n",
    "import random\n"
   ]
  },
  {
   "cell_type": "code",
   "execution_count": 3,
   "metadata": {},
   "outputs": [
    {
     "name": "stderr",
     "output_type": "stream",
     "text": [
      "\u001b[34m\u001b[1mwandb\u001b[0m: Currently logged in as: \u001b[33muma-wandb\u001b[0m (\u001b[33msmle-demo\u001b[0m) to \u001b[32mhttps://api.wandb.ai\u001b[0m. Use \u001b[1m`wandb login --relogin`\u001b[0m to force relogin\n"
     ]
    },
    {
     "data": {
      "text/plain": [
       "True"
      ]
     },
     "execution_count": 3,
     "metadata": {},
     "output_type": "execute_result"
    }
   ],
   "source": [
    "WANDB_HOST = \"cap1_host_url\"\n",
    "wandb.login(url=WANDB_HOST)"
   ]
  },
  {
   "cell_type": "markdown",
   "metadata": {},
   "source": [
    "## Custom X Axis\n",
    "\n",
    "Here's how to set a custom step so your charts have a custom x-axis:\n",
    "```python\n",
    "wandb.define_metric(\"my-metric\", step_metric='my-custom-x-axis')\n",
    "```"
   ]
  },
  {
   "cell_type": "code",
   "execution_count": 4,
   "metadata": {},
   "outputs": [
    {
     "data": {
      "text/html": [
       "Tracking run with wandb version 0.21.0"
      ],
      "text/plain": [
       "<IPython.core.display.HTML object>"
      ]
     },
     "metadata": {},
     "output_type": "display_data"
    },
    {
     "data": {
      "text/html": [
       "Run data is saved locally in <code>/Users/umakrishnaswamy/Desktop/smle/c1-onboarding/201/wandb/run-20250731_193419-k3xxremd</code>"
      ],
      "text/plain": [
       "<IPython.core.display.HTML object>"
      ]
     },
     "metadata": {},
     "output_type": "display_data"
    },
    {
     "data": {
      "text/html": [
       "Syncing run <strong><a href='https://wandb.ai/smle-demo/define-metric-demo/runs/k3xxremd' target=\"_blank\">still-water-2</a></strong> to <a href='https://wandb.ai/smle-demo/define-metric-demo' target=\"_blank\">Weights & Biases</a> (<a href='https://wandb.me/developer-guide' target=\"_blank\">docs</a>)<br>"
      ],
      "text/plain": [
       "<IPython.core.display.HTML object>"
      ]
     },
     "metadata": {},
     "output_type": "display_data"
    },
    {
     "data": {
      "text/html": [
       " View project at <a href='https://wandb.ai/smle-demo/define-metric-demo' target=\"_blank\">https://wandb.ai/smle-demo/define-metric-demo</a>"
      ],
      "text/plain": [
       "<IPython.core.display.HTML object>"
      ]
     },
     "metadata": {},
     "output_type": "display_data"
    },
    {
     "data": {
      "text/html": [
       " View run at <a href='https://wandb.ai/smle-demo/define-metric-demo/runs/k3xxremd' target=\"_blank\">https://wandb.ai/smle-demo/define-metric-demo/runs/k3xxremd</a>"
      ],
      "text/plain": [
       "<IPython.core.display.HTML object>"
      ]
     },
     "metadata": {},
     "output_type": "display_data"
    },
    {
     "data": {
      "text/html": [],
      "text/plain": [
       "<IPython.core.display.HTML object>"
      ]
     },
     "metadata": {},
     "output_type": "display_data"
    },
    {
     "data": {
      "text/html": [
       "<br>    <style><br>        .wandb-row {<br>            display: flex;<br>            flex-direction: row;<br>            flex-wrap: wrap;<br>            justify-content: flex-start;<br>            width: 100%;<br>        }<br>        .wandb-col {<br>            display: flex;<br>            flex-direction: column;<br>            flex-basis: 100%;<br>            flex: 1;<br>            padding: 10px;<br>        }<br>    </style><br><div class=\"wandb-row\"><div class=\"wandb-col\"><h3>Run history:</h3><br/><table class=\"wandb\"><tr><td>custom_step</td><td>▁▁▁▂▂▃▄▅▇█</td></tr><tr><td>train/loss</td><td>█▄▃▂▂▂▁▁▁▁</td></tr><tr><td>validation/loss</td><td>█▄▃▂▂▂▁▁▁▁</td></tr></table><br/></div><div class=\"wandb-col\"><h3>Run summary:</h3><br/><table class=\"wandb\"><tr><td>custom_step</td><td>81</td></tr><tr><td>train/loss</td><td>0.1</td></tr><tr><td>validation/loss</td><td>0.1</td></tr></table><br/></div></div>"
      ],
      "text/plain": [
       "<IPython.core.display.HTML object>"
      ]
     },
     "metadata": {},
     "output_type": "display_data"
    },
    {
     "data": {
      "text/html": [
       " View run <strong style=\"color:#cdcd00\">still-water-2</strong> at: <a href='https://wandb.ai/smle-demo/define-metric-demo/runs/k3xxremd' target=\"_blank\">https://wandb.ai/smle-demo/define-metric-demo/runs/k3xxremd</a><br> View project at: <a href='https://wandb.ai/smle-demo/define-metric-demo' target=\"_blank\">https://wandb.ai/smle-demo/define-metric-demo</a><br>Synced 6 W&B file(s), 0 media file(s), 3 artifact file(s) and 0 other file(s)"
      ],
      "text/plain": [
       "<IPython.core.display.HTML object>"
      ]
     },
     "metadata": {},
     "output_type": "display_data"
    },
    {
     "data": {
      "text/html": [
       "Find logs at: <code>./wandb/run-20250731_193419-k3xxremd/logs</code>"
      ],
      "text/plain": [
       "<IPython.core.display.HTML object>"
      ]
     },
     "metadata": {},
     "output_type": "display_data"
    }
   ],
   "source": [
    "random.seed(1)\n",
    "\n",
    "# Initalize a new run\n",
    "run = wandb.init(project=\"define-metric-demo\", notes=\"custom step\")\n",
    "\n",
    "# Define the custom x axis metric\n",
    "run.define_metric(\"custom_step\")\n",
    "\n",
    "# Define which metrics to plot against that x-axis\n",
    "run.define_metric(\"validation/loss\", step_metric='custom_step')\n",
    "for i in range(10):\n",
    "  log_dict = {\n",
    "      \"train/loss\": 1/(i+1),\n",
    "      \"custom_step\": i**2,\n",
    "      \"validation/loss\": 1/(i+1)   \n",
    "  }\n",
    "  run.log(log_dict)\n",
    "\n",
    "# Use this in the context of a jupyter notebook to mark a run finished\n",
    "run.finish()"
   ]
  },
  {
   "cell_type": "markdown",
   "metadata": {},
   "source": [
    "Run the cell above and click on the link that prints out to see the dashboard. It will look something like this:\n",
    "- `train_loss` is plotted against the standard W&B internal step\n",
    "- `custom_step` is plotted too, so you can see how it increases over the W&B internal step\n",
    "- `validation_loss` is plotted against the `custom_step`, replacing the default with the x-axis as the W&B internal step\n",
    "\n",
    "\n",
    "![](https://i.imgur.com/jGcoAIV.png)"
   ]
  },
  {
   "cell_type": "markdown",
   "metadata": {},
   "source": [
    "## Min/Max of Metrics\n",
    "\n",
    "Each time you call `wandb.log()` to log a metric, you're writing to run `history`. The run `summary` saves a single value for each metric. By default, `summary` captures the final step of `history`. So if you log accuracy for 100 steps, your `history` will have all 100 steps and your `summary` will have just the final value for accuracy.\n",
    "\n",
    "Sometimes, you want to get the _best_ value instead of the _last_ value for a metric and save that to `summary`. That's where `define_metric` comes in.\n",
    "\n",
    "Here, you can set `summary=` to either `max` or `min`.\n",
    "\n",
    "```python\n",
    "wandb.define_metric(\"my-metric\", summary=\"max\")\n",
    "```"
   ]
  },
  {
   "cell_type": "code",
   "execution_count": 5,
   "metadata": {},
   "outputs": [
    {
     "data": {
      "text/html": [
       "Tracking run with wandb version 0.21.0"
      ],
      "text/plain": [
       "<IPython.core.display.HTML object>"
      ]
     },
     "metadata": {},
     "output_type": "display_data"
    },
    {
     "data": {
      "text/html": [
       "Run data is saved locally in <code>/Users/umakrishnaswamy/Desktop/smle/c1-onboarding/201/wandb/run-20250731_193442-5ck3agub</code>"
      ],
      "text/plain": [
       "<IPython.core.display.HTML object>"
      ]
     },
     "metadata": {},
     "output_type": "display_data"
    },
    {
     "data": {
      "text/html": [
       "Syncing run <strong><a href='https://wandb.ai/smle-demo/define-metric-demo/runs/5ck3agub' target=\"_blank\">legendary-microwave-3</a></strong> to <a href='https://wandb.ai/smle-demo/define-metric-demo' target=\"_blank\">Weights & Biases</a> (<a href='https://wandb.me/developer-guide' target=\"_blank\">docs</a>)<br>"
      ],
      "text/plain": [
       "<IPython.core.display.HTML object>"
      ]
     },
     "metadata": {},
     "output_type": "display_data"
    },
    {
     "data": {
      "text/html": [
       " View project at <a href='https://wandb.ai/smle-demo/define-metric-demo' target=\"_blank\">https://wandb.ai/smle-demo/define-metric-demo</a>"
      ],
      "text/plain": [
       "<IPython.core.display.HTML object>"
      ]
     },
     "metadata": {},
     "output_type": "display_data"
    },
    {
     "data": {
      "text/html": [
       " View run at <a href='https://wandb.ai/smle-demo/define-metric-demo/runs/5ck3agub' target=\"_blank\">https://wandb.ai/smle-demo/define-metric-demo/runs/5ck3agub</a>"
      ],
      "text/plain": [
       "<IPython.core.display.HTML object>"
      ]
     },
     "metadata": {},
     "output_type": "display_data"
    },
    {
     "data": {
      "text/html": [],
      "text/plain": [
       "<IPython.core.display.HTML object>"
      ]
     },
     "metadata": {},
     "output_type": "display_data"
    },
    {
     "data": {
      "text/html": [
       "<br>    <style><br>        .wandb-row {<br>            display: flex;<br>            flex-direction: row;<br>            flex-wrap: wrap;<br>            justify-content: flex-start;<br>            width: 100%;<br>        }<br>        .wandb-col {<br>            display: flex;<br>            flex-direction: column;<br>            flex-basis: 100%;<br>            flex: 1;<br>            padding: 10px;<br>        }<br>    </style><br><div class=\"wandb-row\"><div class=\"wandb-col\"><h3>Run history:</h3><br/><table class=\"wandb\"><tr><td>acc</td><td>█▅▅▇▂▄▁▆█▁</td></tr><tr><td>loss</td><td>▃█▄▄▁▃▃▂▁▂</td></tr></table><br/></div></div>"
      ],
      "text/plain": [
       "<IPython.core.display.HTML object>"
      ]
     },
     "metadata": {},
     "output_type": "display_data"
    },
    {
     "data": {
      "text/html": [
       " View run <strong style=\"color:#cdcd00\">legendary-microwave-3</strong> at: <a href='https://wandb.ai/smle-demo/define-metric-demo/runs/5ck3agub' target=\"_blank\">https://wandb.ai/smle-demo/define-metric-demo/runs/5ck3agub</a><br> View project at: <a href='https://wandb.ai/smle-demo/define-metric-demo' target=\"_blank\">https://wandb.ai/smle-demo/define-metric-demo</a><br>Synced 6 W&B file(s), 0 media file(s), 3 artifact file(s) and 0 other file(s)"
      ],
      "text/plain": [
       "<IPython.core.display.HTML object>"
      ]
     },
     "metadata": {},
     "output_type": "display_data"
    },
    {
     "data": {
      "text/html": [
       "Find logs at: <code>./wandb/run-20250731_193442-5ck3agub/logs</code>"
      ],
      "text/plain": [
       "<IPython.core.display.HTML object>"
      ]
     },
     "metadata": {},
     "output_type": "display_data"
    }
   ],
   "source": [
    "random.seed(1)\n",
    "\n",
    "# Start a new run\n",
    "run = wandb.init(project=\"define-metric-demo\", notes=\"min of loss, max of acc\")\n",
    "\n",
    "# For loss, capture the min value from history in summary\n",
    "run.define_metric(\"loss\", summary=\"min\")\n",
    "\n",
    "# For acc, capture the max value from history in summary\n",
    "run.define_metric(\"acc\", summary=\"max\")\n",
    "\n",
    "# Simulate a training loop where we're logging metrics\n",
    "for i in range(10):\n",
    "  log_dict = {\n",
    "      \"loss\": random.uniform(0,1/(i+1)),\n",
    "      \"acc\": random.uniform(1/(i+1),1),\n",
    "  }\n",
    "  run.log(log_dict)\n",
    "\n",
    "# Mark the run as finished, useful in the context of Jupyter notebooks\n",
    "run.finish()"
   ]
  },
  {
   "cell_type": "markdown",
   "metadata": {},
   "source": [
    "Run the cell above and click on the project page link that prints out to see the dashboard. It will look something like this:\n",
    "- `acc.max` is visible in the sidebar, saved in the run summary\n",
    "- `loss.min` is visible in the sidebar, saved in the run summary\n",
    "\n",
    "You can see the summary values in the Project Page Table. Here I've pinned two columns in the sidebar, which you can see on the left.\n",
    "![](https://i.imgur.com/VaO9w25.png)"
   ]
  }
 ],
 "metadata": {
  "accelerator": "GPU",
  "colab": {
   "include_colab_link": true,
   "provenance": [],
   "toc_visible": true
  },
  "kernelspec": {
   "display_name": "tf",
   "language": "python",
   "name": "python3"
  },
  "language_info": {
   "codemirror_mode": {
    "name": "ipython",
    "version": 3
   },
   "file_extension": ".py",
   "mimetype": "text/x-python",
   "name": "python",
   "nbconvert_exporter": "python",
   "pygments_lexer": "ipython3",
   "version": "3.11.4"
  }
 },
 "nbformat": 4,
 "nbformat_minor": 0
}
